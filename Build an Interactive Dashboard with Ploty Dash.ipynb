{
 "cells": [
  {
   "cell_type": "code",
   "execution_count": 2,
   "id": "e1ec3879-fa0e-48f8-9cc7-e76a8aa88132",
   "metadata": {},
   "outputs": [],
   "source": [
    "# Import required libraries\n",
    "import pandas as pd\n",
    "import dash\n",
    "import dash_html_components as html\n",
    "import dash_core_components as dcc\n",
    "from dash.dependencies import Input, Output\n",
    "import plotly.express as px"
   ]
  },
  {
   "cell_type": "code",
   "execution_count": 4,
   "id": "d7ea3d19-1202-4f12-b5aa-fa5389428dbc",
   "metadata": {},
   "outputs": [],
   "source": [
    "# Read the airline data into pandas dataframe\n",
    "spacex_df = pd.read_csv(\"Downloads/spacex_launch_dash.csv\")\n",
    "max_payload = spacex_df['Payload Mass (kg)'].max()\n",
    "min_payload = spacex_df['Payload Mass (kg)'].min()"
   ]
  },
  {
   "cell_type": "code",
   "execution_count": 5,
   "id": "1c0719e1-e263-4ab0-9e7a-365b470370c4",
   "metadata": {},
   "outputs": [],
   "source": [
    "# Create a dash application\n",
    "app = dash.Dash(__name__)"
   ]
  },
  {
   "cell_type": "code",
   "execution_count": 14,
   "id": "568410ee-51af-4f34-9262-5d87aa6f123f",
   "metadata": {},
   "outputs": [],
   "source": [
    "# Create the app layout\n",
    "app.layout = html.Div(children=[\n",
    "    html.H1('SpaceX Launch Records Dashboard',\n",
    "            style={'textAlign': 'center', 'color': '#503D36', 'font-size': 40}),\n",
    "    \n",
    "    # TASK 1: Dropdown for Launch Site selection\n",
    "    dcc.Dropdown(id='site-dropdown',\n",
    "                 options=[\n",
    "                     {'label': 'All Sites', 'value': 'ALL'},\n",
    "                     {'label': 'CCAFS LC-40', 'value': 'CCAFS LC-40'},\n",
    "                     {'label': 'CCAFS SLC-40', 'value': 'CCAFS SLC-40'},\n",
    "                     {'label': 'KSC LC-39A', 'value': 'KSC LC-39A'},\n",
    "                     {'label': 'VAFB SLC-4E', 'value': 'VAFB SLC-4E'}\n",
    "                 ],\n",
    "                 value='ALL',\n",
    "                 placeholder=\"Select a Launch Site here\",\n",
    "                 searchable=True),\n",
    "    \n",
    "    html.Br(),\n",
    "    \n",
    "    # TASK 2: Pie Chart for Launch Success Data\n",
    "    html.Div(dcc.Graph(id='success-pie-chart')),\n",
    "    \n",
    "    html.Br(),\n",
    "    \n",
    "    html.P(\"Payload range (Kg):\"),\n",
    "    \n",
    "    # TASK 3: Slider for Payload Range\n",
    "    dcc.RangeSlider(id='payload-slider',\n",
    "                    min=0, max=10000, step=1000,\n",
    "                    marks={0: '0', 1000: '1000', 5000: '5000', 10000: '10000'},\n",
    "                    value=[0, 10000]),\n",
    "    \n",
    "    html.Br(),\n",
    "    \n",
    "    # TASK 4: Scatter Plot for Payload vs Launch Success\n",
    "    html.Div(dcc.Graph(id='success-payload-scatter-chart')),\n",
    "])\n"
   ]
  },
  {
   "cell_type": "code",
   "execution_count": 15,
   "id": "eefec7b5-e52c-4aeb-8b05-2d4969361ce6",
   "metadata": {},
   "outputs": [],
   "source": [
    "# TASK 2:\n",
    "# Add a callback function for `site-dropdown` as input, `success-pie-chart` as output\n",
    "@app.callback(Output(component_id='success-pie-chart', component_property='figure'),\n",
    "               Input(component_id='site-dropdown', component_property='value'))\n",
    "#Place to define the callback function .\n",
    "def get_pie_chart(entered_site):\n",
    "    filtered_df = spacex_df\n",
    "    if entered_site == 'ALL':\n",
    "        fig = px.pie(filtered_df, values='class', # use value 1 to calc success rate\n",
    "                    names='Launch Site', \n",
    "                    title='Total Success Launches by Site')\n",
    "        return fig\n",
    "    else:\n",
    "        # return the outcomes piechart for a selected site\n",
    "        filtered_df = filtered_df[filtered_df['Launch Site'] == entered_site]\n",
    "        fig = px.pie(filtered_df, #values='class', # no need to use value 1 to calc, just count 0 or 1\n",
    "                    names='class', \n",
    "                    title=f'Total Success Launches for {entered_site}')\n",
    "        return fig"
   ]
  },
  {
   "cell_type": "code",
   "execution_count": 16,
   "id": "88fcc8bb-c713-4b84-850a-a090173b86d2",
   "metadata": {
    "editable": true,
    "slideshow": {
     "slide_type": ""
    },
    "tags": []
   },
   "outputs": [
    {
     "data": {
      "text/html": [
       "\n",
       "        <iframe\n",
       "            width=\"100%\"\n",
       "            height=\"650\"\n",
       "            src=\"http://127.0.0.1:8050/\"\n",
       "            frameborder=\"0\"\n",
       "            allowfullscreen\n",
       "            \n",
       "        ></iframe>\n",
       "        "
      ],
      "text/plain": [
       "<IPython.lib.display.IFrame at 0x1cd9c39de80>"
      ]
     },
     "metadata": {},
     "output_type": "display_data"
    }
   ],
   "source": [
    "# TASK 4:\n",
    "# Add a callback function for `site-dropdown` and `payload-slider` as inputs, `success-payload-scatter-chart` as output\n",
    "@app.callback(Output(component_id='success-payload-scatter-chart', component_property='figure'),\n",
    "              [Input(component_id='site-dropdown', component_property='value'), \n",
    "               Input(component_id=\"payload-slider\", component_property=\"value\")])\n",
    "#Place to define the callback function .\n",
    "def get_scatter_plot(entered_site, payload):\n",
    "    filtered_df = spacex_df\n",
    "    if entered_site == 'ALL':\n",
    "        fig = px.scatter(filtered_df, x='Payload Mass (kg)', y=\"class\", \n",
    "                         color=\"Booster Version Category\",\n",
    "                         title='Correlation between Payload and Success for all Sites')\n",
    "        return fig\n",
    "    else:\n",
    "        # return the outcomes piechart for a selected site\n",
    "        filtered_df = filtered_df[(filtered_df['Launch Site']==entered_site) \\\n",
    "                & (filtered_df['Payload Mass (kg)'] >= payload[0]) \\\n",
    "                & (filtered_df['Payload Mass (kg)'] <= payload[1])]\n",
    "\n",
    "        fig = px.scatter(filtered_df, x='Payload Mass (kg)', y=\"class\", \n",
    "                         color=\"Booster Version Category\",\n",
    "                         title=f'Correlation between Payload and Success for {entered_site}')\n",
    "        return fig\n",
    "\n",
    "\n",
    "# Run the app\n",
    "if __name__ == '__main__':\n",
    "    app.run_server()"
   ]
  }
 ],
 "metadata": {
  "kernelspec": {
   "display_name": "Python 3 (ipykernel)",
   "language": "python",
   "name": "python3"
  },
  "language_info": {
   "codemirror_mode": {
    "name": "ipython",
    "version": 3
   },
   "file_extension": ".py",
   "mimetype": "text/x-python",
   "name": "python",
   "nbconvert_exporter": "python",
   "pygments_lexer": "ipython3",
   "version": "3.13.0"
  }
 },
 "nbformat": 4,
 "nbformat_minor": 5
}
